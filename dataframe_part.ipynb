{
 "cells": [
  {
   "cell_type": "code",
   "execution_count": 1,
   "metadata": {},
   "outputs": [],
   "source": [
    "import pandas as pd"
   ]
  },
  {
   "cell_type": "markdown",
   "metadata": {},
   "source": [
    "- csv 파일 읽기"
   ]
  },
  {
   "cell_type": "code",
   "execution_count": 39,
   "metadata": {},
   "outputs": [
    {
     "name": "stdout",
     "output_type": "stream",
     "text": [
      "(315456, 32)\n"
     ]
    },
    {
     "data": {
      "text/html": [
       "<div>\n",
       "<style scoped>\n",
       "    .dataframe tbody tr th:only-of-type {\n",
       "        vertical-align: middle;\n",
       "    }\n",
       "\n",
       "    .dataframe tbody tr th {\n",
       "        vertical-align: top;\n",
       "    }\n",
       "\n",
       "    .dataframe thead th {\n",
       "        text-align: right;\n",
       "    }\n",
       "</style>\n",
       "<table border=\"1\" class=\"dataframe\">\n",
       "  <thead>\n",
       "    <tr style=\"text-align: right;\">\n",
       "      <th></th>\n",
       "      <th>기준일ID</th>\n",
       "      <th>시간대구분</th>\n",
       "      <th>행정동코드</th>\n",
       "      <th>총생활인구수</th>\n",
       "      <th>남자0세부터9세생활인구수</th>\n",
       "      <th>남자10세부터14세생활인구수</th>\n",
       "      <th>남자15세부터19세생활인구수</th>\n",
       "      <th>남자20세부터24세생활인구수</th>\n",
       "      <th>남자25세부터29세생활인구수</th>\n",
       "      <th>남자30세부터34세생활인구수</th>\n",
       "      <th>...</th>\n",
       "      <th>여자25세부터29세생활인구수</th>\n",
       "      <th>여자30세부터34세생활인구수</th>\n",
       "      <th>여자35세부터39세생활인구수</th>\n",
       "      <th>여자40세부터44세생활인구수</th>\n",
       "      <th>여자45세부터49세생활인구수</th>\n",
       "      <th>여자50세부터54세생활인구수</th>\n",
       "      <th>여자55세부터59세생활인구수</th>\n",
       "      <th>여자60세부터64세생활인구수</th>\n",
       "      <th>여자65세부터69세생활인구수</th>\n",
       "      <th>여자70세이상생활인구수</th>\n",
       "    </tr>\n",
       "  </thead>\n",
       "  <tbody>\n",
       "    <tr>\n",
       "      <th>315451</th>\n",
       "      <td>20190731</td>\n",
       "      <td>23</td>\n",
       "      <td>11140570</td>\n",
       "      <td>9347.4077</td>\n",
       "      <td>205.6905</td>\n",
       "      <td>68.5636</td>\n",
       "      <td>249.0123</td>\n",
       "      <td>631.3622</td>\n",
       "      <td>593.0740</td>\n",
       "      <td>406.0983</td>\n",
       "      <td>...</td>\n",
       "      <td>400.0723</td>\n",
       "      <td>357.1414</td>\n",
       "      <td>313.6847</td>\n",
       "      <td>253.9237</td>\n",
       "      <td>254.9195</td>\n",
       "      <td>289.1007</td>\n",
       "      <td>247.3975</td>\n",
       "      <td>234.9142</td>\n",
       "      <td>156.3714</td>\n",
       "      <td>569.5459</td>\n",
       "    </tr>\n",
       "    <tr>\n",
       "      <th>315452</th>\n",
       "      <td>20190731</td>\n",
       "      <td>23</td>\n",
       "      <td>11650610</td>\n",
       "      <td>22890.7533</td>\n",
       "      <td>643.0322</td>\n",
       "      <td>338.2451</td>\n",
       "      <td>585.2394</td>\n",
       "      <td>811.1836</td>\n",
       "      <td>991.8039</td>\n",
       "      <td>881.1163</td>\n",
       "      <td>...</td>\n",
       "      <td>1146.9825</td>\n",
       "      <td>973.0540</td>\n",
       "      <td>892.6454</td>\n",
       "      <td>741.3495</td>\n",
       "      <td>935.7917</td>\n",
       "      <td>845.4038</td>\n",
       "      <td>1018.7481</td>\n",
       "      <td>872.9075</td>\n",
       "      <td>675.1736</td>\n",
       "      <td>1702.9134</td>\n",
       "    </tr>\n",
       "    <tr>\n",
       "      <th>315453</th>\n",
       "      <td>20190731</td>\n",
       "      <td>23</td>\n",
       "      <td>11410690</td>\n",
       "      <td>16870.5390</td>\n",
       "      <td>1411.2036</td>\n",
       "      <td>432.4852</td>\n",
       "      <td>351.6624</td>\n",
       "      <td>351.1700</td>\n",
       "      <td>391.7582</td>\n",
       "      <td>400.5410</td>\n",
       "      <td>...</td>\n",
       "      <td>458.9866</td>\n",
       "      <td>559.0708</td>\n",
       "      <td>873.2515</td>\n",
       "      <td>779.9802</td>\n",
       "      <td>663.7474</td>\n",
       "      <td>551.4996</td>\n",
       "      <td>587.1011</td>\n",
       "      <td>470.9524</td>\n",
       "      <td>426.4863</td>\n",
       "      <td>1125.9248</td>\n",
       "    </tr>\n",
       "    <tr>\n",
       "      <th>315454</th>\n",
       "      <td>20190731</td>\n",
       "      <td>23</td>\n",
       "      <td>11560680</td>\n",
       "      <td>18813.3418</td>\n",
       "      <td>665.9951</td>\n",
       "      <td>320.5167</td>\n",
       "      <td>344.0296</td>\n",
       "      <td>460.7043</td>\n",
       "      <td>757.5524</td>\n",
       "      <td>702.5474</td>\n",
       "      <td>...</td>\n",
       "      <td>893.7070</td>\n",
       "      <td>887.4137</td>\n",
       "      <td>862.3878</td>\n",
       "      <td>693.7685</td>\n",
       "      <td>806.3401</td>\n",
       "      <td>690.3966</td>\n",
       "      <td>858.3726</td>\n",
       "      <td>745.7627</td>\n",
       "      <td>562.4553</td>\n",
       "      <td>1283.9871</td>\n",
       "    </tr>\n",
       "    <tr>\n",
       "      <th>315455</th>\n",
       "      <td>20190731</td>\n",
       "      <td>23</td>\n",
       "      <td>11440680</td>\n",
       "      <td>21842.8904</td>\n",
       "      <td>407.1227</td>\n",
       "      <td>108.8255</td>\n",
       "      <td>291.0451</td>\n",
       "      <td>838.6265</td>\n",
       "      <td>1309.9360</td>\n",
       "      <td>1186.4729</td>\n",
       "      <td>...</td>\n",
       "      <td>1724.7837</td>\n",
       "      <td>1270.9688</td>\n",
       "      <td>1143.4306</td>\n",
       "      <td>797.4718</td>\n",
       "      <td>776.0933</td>\n",
       "      <td>760.3918</td>\n",
       "      <td>775.1841</td>\n",
       "      <td>591.6362</td>\n",
       "      <td>395.9683</td>\n",
       "      <td>1130.7833</td>\n",
       "    </tr>\n",
       "  </tbody>\n",
       "</table>\n",
       "<p>5 rows × 32 columns</p>\n",
       "</div>"
      ],
      "text/plain": [
       "           기준일ID  시간대구분     행정동코드      총생활인구수  남자0세부터9세생활인구수  남자10세부터14세생활인구수  \\\n",
       "315451  20190731     23  11140570   9347.4077       205.6905          68.5636   \n",
       "315452  20190731     23  11650610  22890.7533       643.0322         338.2451   \n",
       "315453  20190731     23  11410690  16870.5390      1411.2036         432.4852   \n",
       "315454  20190731     23  11560680  18813.3418       665.9951         320.5167   \n",
       "315455  20190731     23  11440680  21842.8904       407.1227         108.8255   \n",
       "\n",
       "        남자15세부터19세생활인구수  남자20세부터24세생활인구수  남자25세부터29세생활인구수  남자30세부터34세생활인구수  \\\n",
       "315451         249.0123         631.3622         593.0740         406.0983   \n",
       "315452         585.2394         811.1836         991.8039         881.1163   \n",
       "315453         351.6624         351.1700         391.7582         400.5410   \n",
       "315454         344.0296         460.7043         757.5524         702.5474   \n",
       "315455         291.0451         838.6265        1309.9360        1186.4729   \n",
       "\n",
       "            ...       여자25세부터29세생활인구수  여자30세부터34세생활인구수  여자35세부터39세생활인구수  \\\n",
       "315451      ...              400.0723         357.1414         313.6847   \n",
       "315452      ...             1146.9825         973.0540         892.6454   \n",
       "315453      ...              458.9866         559.0708         873.2515   \n",
       "315454      ...              893.7070         887.4137         862.3878   \n",
       "315455      ...             1724.7837        1270.9688        1143.4306   \n",
       "\n",
       "        여자40세부터44세생활인구수  여자45세부터49세생활인구수  여자50세부터54세생활인구수  여자55세부터59세생활인구수  \\\n",
       "315451         253.9237         254.9195         289.1007         247.3975   \n",
       "315452         741.3495         935.7917         845.4038        1018.7481   \n",
       "315453         779.9802         663.7474         551.4996         587.1011   \n",
       "315454         693.7685         806.3401         690.3966         858.3726   \n",
       "315455         797.4718         776.0933         760.3918         775.1841   \n",
       "\n",
       "        여자60세부터64세생활인구수  여자65세부터69세생활인구수  여자70세이상생활인구수  \n",
       "315451         234.9142         156.3714      569.5459  \n",
       "315452         872.9075         675.1736     1702.9134  \n",
       "315453         470.9524         426.4863     1125.9248  \n",
       "315454         745.7627         562.4553     1283.9871  \n",
       "315455         591.6362         395.9683     1130.7833  \n",
       "\n",
       "[5 rows x 32 columns]"
      ]
     },
     "execution_count": 39,
     "metadata": {},
     "output_type": "execute_result"
    }
   ],
   "source": [
    "df = pd.read_csv('LOCAL_PEOPLE_DONG_201907.csv', index_col=False)\n",
    "print(df.shape)\n",
    "df.tail()"
   ]
  },
  {
   "cell_type": "markdown",
   "metadata": {},
   "source": [
    "- 엑셀 파일 읽기 (특정 시트만)"
   ]
  },
  {
   "cell_type": "code",
   "execution_count": 40,
   "metadata": {},
   "outputs": [
    {
     "name": "stdout",
     "output_type": "stream",
     "text": [
      "(425, 5)\n"
     ]
    },
    {
     "data": {
      "text/html": [
       "<div>\n",
       "<style scoped>\n",
       "    .dataframe tbody tr th:only-of-type {\n",
       "        vertical-align: middle;\n",
       "    }\n",
       "\n",
       "    .dataframe tbody tr th {\n",
       "        vertical-align: top;\n",
       "    }\n",
       "\n",
       "    .dataframe thead th {\n",
       "        text-align: right;\n",
       "    }\n",
       "</style>\n",
       "<table border=\"1\" class=\"dataframe\">\n",
       "  <thead>\n",
       "    <tr style=\"text-align: right;\">\n",
       "      <th></th>\n",
       "      <th>통계청행정동코드</th>\n",
       "      <th>행자부행정동코드</th>\n",
       "      <th>시도명</th>\n",
       "      <th>시군구명</th>\n",
       "      <th>행정동명</th>\n",
       "    </tr>\n",
       "  </thead>\n",
       "  <tbody>\n",
       "    <tr>\n",
       "      <th>0</th>\n",
       "      <td>H_SDNG_CD</td>\n",
       "      <td>H_DNG_CD</td>\n",
       "      <td>DO_NM</td>\n",
       "      <td>CT_NM</td>\n",
       "      <td>H_DNG_NM</td>\n",
       "    </tr>\n",
       "    <tr>\n",
       "      <th>1</th>\n",
       "      <td>1101053</td>\n",
       "      <td>11110530</td>\n",
       "      <td>서울</td>\n",
       "      <td>종로구</td>\n",
       "      <td>사직동</td>\n",
       "    </tr>\n",
       "    <tr>\n",
       "      <th>2</th>\n",
       "      <td>1101054</td>\n",
       "      <td>11110540</td>\n",
       "      <td>서울</td>\n",
       "      <td>종로구</td>\n",
       "      <td>삼청동</td>\n",
       "    </tr>\n",
       "    <tr>\n",
       "      <th>3</th>\n",
       "      <td>1101055</td>\n",
       "      <td>11110550</td>\n",
       "      <td>서울</td>\n",
       "      <td>종로구</td>\n",
       "      <td>부암동</td>\n",
       "    </tr>\n",
       "    <tr>\n",
       "      <th>4</th>\n",
       "      <td>1101056</td>\n",
       "      <td>11110560</td>\n",
       "      <td>서울</td>\n",
       "      <td>종로구</td>\n",
       "      <td>평창동</td>\n",
       "    </tr>\n",
       "  </tbody>\n",
       "</table>\n",
       "</div>"
      ],
      "text/plain": [
       "    통계청행정동코드  행자부행정동코드    시도명   시군구명      행정동명\n",
       "0  H_SDNG_CD  H_DNG_CD  DO_NM  CT_NM  H_DNG_NM\n",
       "1    1101053  11110530     서울    종로구       사직동\n",
       "2    1101054  11110540     서울    종로구       삼청동\n",
       "3    1101055  11110550     서울    종로구       부암동\n",
       "4    1101056  11110560     서울    종로구       평창동"
      ]
     },
     "execution_count": 40,
     "metadata": {},
     "output_type": "execute_result"
    }
   ],
   "source": [
    "code_df = pd.read_excel('행정동코드_매핑정보_2018.xlsx', sheet_name='행정동코드')\n",
    "print(code_df.shape)\n",
    "code_df.head()"
   ]
  },
  {
   "cell_type": "markdown",
   "metadata": {},
   "source": [
    "- 불필요한 첫번째 row 제거 후 특정 컬럼만 선택"
   ]
  },
  {
   "cell_type": "code",
   "execution_count": 41,
   "metadata": {},
   "outputs": [
    {
     "name": "stdout",
     "output_type": "stream",
     "text": [
      "(424, 5)\n"
     ]
    },
    {
     "data": {
      "text/html": [
       "<div>\n",
       "<style scoped>\n",
       "    .dataframe tbody tr th:only-of-type {\n",
       "        vertical-align: middle;\n",
       "    }\n",
       "\n",
       "    .dataframe tbody tr th {\n",
       "        vertical-align: top;\n",
       "    }\n",
       "\n",
       "    .dataframe thead th {\n",
       "        text-align: right;\n",
       "    }\n",
       "</style>\n",
       "<table border=\"1\" class=\"dataframe\">\n",
       "  <thead>\n",
       "    <tr style=\"text-align: right;\">\n",
       "      <th></th>\n",
       "      <th>통계청행정동코드</th>\n",
       "      <th>행자부행정동코드</th>\n",
       "      <th>시도명</th>\n",
       "      <th>시군구명</th>\n",
       "      <th>행정동명</th>\n",
       "    </tr>\n",
       "  </thead>\n",
       "  <tbody>\n",
       "    <tr>\n",
       "      <th>1</th>\n",
       "      <td>1101053</td>\n",
       "      <td>11110530</td>\n",
       "      <td>서울</td>\n",
       "      <td>종로구</td>\n",
       "      <td>사직동</td>\n",
       "    </tr>\n",
       "    <tr>\n",
       "      <th>2</th>\n",
       "      <td>1101054</td>\n",
       "      <td>11110540</td>\n",
       "      <td>서울</td>\n",
       "      <td>종로구</td>\n",
       "      <td>삼청동</td>\n",
       "    </tr>\n",
       "    <tr>\n",
       "      <th>3</th>\n",
       "      <td>1101055</td>\n",
       "      <td>11110550</td>\n",
       "      <td>서울</td>\n",
       "      <td>종로구</td>\n",
       "      <td>부암동</td>\n",
       "    </tr>\n",
       "    <tr>\n",
       "      <th>4</th>\n",
       "      <td>1101056</td>\n",
       "      <td>11110560</td>\n",
       "      <td>서울</td>\n",
       "      <td>종로구</td>\n",
       "      <td>평창동</td>\n",
       "    </tr>\n",
       "    <tr>\n",
       "      <th>5</th>\n",
       "      <td>1101057</td>\n",
       "      <td>11110570</td>\n",
       "      <td>서울</td>\n",
       "      <td>종로구</td>\n",
       "      <td>무악동</td>\n",
       "    </tr>\n",
       "  </tbody>\n",
       "</table>\n",
       "</div>"
      ],
      "text/plain": [
       "  통계청행정동코드  행자부행정동코드 시도명 시군구명 행정동명\n",
       "1  1101053  11110530  서울  종로구  사직동\n",
       "2  1101054  11110540  서울  종로구  삼청동\n",
       "3  1101055  11110550  서울  종로구  부암동\n",
       "4  1101056  11110560  서울  종로구  평창동\n",
       "5  1101057  11110570  서울  종로구  무악동"
      ]
     },
     "execution_count": 41,
     "metadata": {},
     "output_type": "execute_result"
    }
   ],
   "source": [
    "code_df = code_df.iloc[1:]\n",
    "print(code_df.shape)\n",
    "code_df.head()"
   ]
  },
  {
   "cell_type": "code",
   "execution_count": 42,
   "metadata": {},
   "outputs": [
    {
     "data": {
      "text/html": [
       "<div>\n",
       "<style scoped>\n",
       "    .dataframe tbody tr th:only-of-type {\n",
       "        vertical-align: middle;\n",
       "    }\n",
       "\n",
       "    .dataframe tbody tr th {\n",
       "        vertical-align: top;\n",
       "    }\n",
       "\n",
       "    .dataframe thead th {\n",
       "        text-align: right;\n",
       "    }\n",
       "</style>\n",
       "<table border=\"1\" class=\"dataframe\">\n",
       "  <thead>\n",
       "    <tr style=\"text-align: right;\">\n",
       "      <th></th>\n",
       "      <th>행자부행정동코드</th>\n",
       "      <th>시군구명</th>\n",
       "      <th>행정동명</th>\n",
       "    </tr>\n",
       "  </thead>\n",
       "  <tbody>\n",
       "    <tr>\n",
       "      <th>420</th>\n",
       "      <td>11740690</td>\n",
       "      <td>강동구</td>\n",
       "      <td>둔촌1동</td>\n",
       "    </tr>\n",
       "    <tr>\n",
       "      <th>421</th>\n",
       "      <td>11740700</td>\n",
       "      <td>강동구</td>\n",
       "      <td>둔촌2동</td>\n",
       "    </tr>\n",
       "    <tr>\n",
       "      <th>422</th>\n",
       "      <td>11740570</td>\n",
       "      <td>강동구</td>\n",
       "      <td>암사1동</td>\n",
       "    </tr>\n",
       "    <tr>\n",
       "      <th>423</th>\n",
       "      <td>11740610</td>\n",
       "      <td>강동구</td>\n",
       "      <td>천호2동</td>\n",
       "    </tr>\n",
       "    <tr>\n",
       "      <th>424</th>\n",
       "      <td>11740685</td>\n",
       "      <td>강동구</td>\n",
       "      <td>길동</td>\n",
       "    </tr>\n",
       "  </tbody>\n",
       "</table>\n",
       "</div>"
      ],
      "text/plain": [
       "     행자부행정동코드 시군구명  행정동명\n",
       "420  11740690  강동구  둔촌1동\n",
       "421  11740700  강동구  둔촌2동\n",
       "422  11740570  강동구  암사1동\n",
       "423  11740610  강동구  천호2동\n",
       "424  11740685  강동구    길동"
      ]
     },
     "execution_count": 42,
     "metadata": {},
     "output_type": "execute_result"
    }
   ],
   "source": [
    "code_df = code_df[['행자부행정동코드', '시군구명', '행정동명']]\n",
    "code_df.tail()"
   ]
  },
  {
   "cell_type": "markdown",
   "metadata": {},
   "source": [
    "- 2개의 데이터프레임을 합치려고 하지만 에러가 남"
   ]
  },
  {
   "cell_type": "code",
   "execution_count": 43,
   "metadata": {},
   "outputs": [
    {
     "ename": "ValueError",
     "evalue": "You are trying to merge on int64 and object columns. If you wish to proceed you should use pd.concat",
     "output_type": "error",
     "traceback": [
      "\u001b[1;31m---------------------------------------------------------------------------\u001b[0m",
      "\u001b[1;31mValueError\u001b[0m                                Traceback (most recent call last)",
      "\u001b[1;32m<ipython-input-43-91ff099cd258>\u001b[0m in \u001b[0;36m<module>\u001b[1;34m\u001b[0m\n\u001b[1;32m----> 1\u001b[1;33m \u001b[0mdf\u001b[0m \u001b[1;33m=\u001b[0m \u001b[0mpd\u001b[0m\u001b[1;33m.\u001b[0m\u001b[0mmerge\u001b[0m\u001b[1;33m(\u001b[0m\u001b[0mdf\u001b[0m\u001b[1;33m,\u001b[0m \u001b[0mcode_df\u001b[0m\u001b[1;33m,\u001b[0m \u001b[0mhow\u001b[0m\u001b[1;33m=\u001b[0m\u001b[1;34m'inner'\u001b[0m\u001b[1;33m,\u001b[0m \u001b[0mleft_on\u001b[0m\u001b[1;33m=\u001b[0m\u001b[1;33m[\u001b[0m\u001b[1;34m'행정동코드'\u001b[0m\u001b[1;33m]\u001b[0m\u001b[1;33m,\u001b[0m \u001b[0mright_on\u001b[0m\u001b[1;33m=\u001b[0m\u001b[1;33m[\u001b[0m\u001b[1;34m'행자부행정동코드'\u001b[0m\u001b[1;33m]\u001b[0m\u001b[1;33m)\u001b[0m\u001b[1;33m\u001b[0m\u001b[0m\n\u001b[0m\u001b[0;32m      2\u001b[0m \u001b[0mprint\u001b[0m\u001b[1;33m(\u001b[0m\u001b[0mdf\u001b[0m\u001b[1;33m.\u001b[0m\u001b[0mshape\u001b[0m\u001b[1;33m)\u001b[0m\u001b[1;33m\u001b[0m\u001b[0m\n\u001b[0;32m      3\u001b[0m \u001b[0mdf\u001b[0m\u001b[1;33m.\u001b[0m\u001b[0mtail\u001b[0m\u001b[1;33m(\u001b[0m\u001b[1;33m)\u001b[0m\u001b[1;33m\u001b[0m\u001b[0m\n",
      "\u001b[1;32mc:\\programdata\\anaconda3\\envs\\geo\\lib\\site-packages\\pandas\\core\\reshape\\merge.py\u001b[0m in \u001b[0;36mmerge\u001b[1;34m(left, right, how, on, left_on, right_on, left_index, right_index, sort, suffixes, copy, indicator, validate)\u001b[0m\n\u001b[0;32m     59\u001b[0m                          \u001b[0mright_index\u001b[0m\u001b[1;33m=\u001b[0m\u001b[0mright_index\u001b[0m\u001b[1;33m,\u001b[0m \u001b[0msort\u001b[0m\u001b[1;33m=\u001b[0m\u001b[0msort\u001b[0m\u001b[1;33m,\u001b[0m \u001b[0msuffixes\u001b[0m\u001b[1;33m=\u001b[0m\u001b[0msuffixes\u001b[0m\u001b[1;33m,\u001b[0m\u001b[1;33m\u001b[0m\u001b[0m\n\u001b[0;32m     60\u001b[0m                          \u001b[0mcopy\u001b[0m\u001b[1;33m=\u001b[0m\u001b[0mcopy\u001b[0m\u001b[1;33m,\u001b[0m \u001b[0mindicator\u001b[0m\u001b[1;33m=\u001b[0m\u001b[0mindicator\u001b[0m\u001b[1;33m,\u001b[0m\u001b[1;33m\u001b[0m\u001b[0m\n\u001b[1;32m---> 61\u001b[1;33m                          validate=validate)\n\u001b[0m\u001b[0;32m     62\u001b[0m     \u001b[1;32mreturn\u001b[0m \u001b[0mop\u001b[0m\u001b[1;33m.\u001b[0m\u001b[0mget_result\u001b[0m\u001b[1;33m(\u001b[0m\u001b[1;33m)\u001b[0m\u001b[1;33m\u001b[0m\u001b[0m\n\u001b[0;32m     63\u001b[0m \u001b[1;33m\u001b[0m\u001b[0m\n",
      "\u001b[1;32mc:\\programdata\\anaconda3\\envs\\geo\\lib\\site-packages\\pandas\\core\\reshape\\merge.py\u001b[0m in \u001b[0;36m__init__\u001b[1;34m(self, left, right, how, on, left_on, right_on, axis, left_index, right_index, sort, suffixes, copy, indicator, validate)\u001b[0m\n\u001b[0;32m    553\u001b[0m         \u001b[1;31m# validate the merge keys dtypes. We may need to coerce\u001b[0m\u001b[1;33m\u001b[0m\u001b[1;33m\u001b[0m\u001b[0m\n\u001b[0;32m    554\u001b[0m         \u001b[1;31m# to avoid incompat dtypes\u001b[0m\u001b[1;33m\u001b[0m\u001b[1;33m\u001b[0m\u001b[0m\n\u001b[1;32m--> 555\u001b[1;33m         \u001b[0mself\u001b[0m\u001b[1;33m.\u001b[0m\u001b[0m_maybe_coerce_merge_keys\u001b[0m\u001b[1;33m(\u001b[0m\u001b[1;33m)\u001b[0m\u001b[1;33m\u001b[0m\u001b[0m\n\u001b[0m\u001b[0;32m    556\u001b[0m \u001b[1;33m\u001b[0m\u001b[0m\n\u001b[0;32m    557\u001b[0m         \u001b[1;31m# If argument passed to validate,\u001b[0m\u001b[1;33m\u001b[0m\u001b[1;33m\u001b[0m\u001b[0m\n",
      "\u001b[1;32mc:\\programdata\\anaconda3\\envs\\geo\\lib\\site-packages\\pandas\\core\\reshape\\merge.py\u001b[0m in \u001b[0;36m_maybe_coerce_merge_keys\u001b[1;34m(self)\u001b[0m\n\u001b[0;32m    981\u001b[0m             elif ((is_numeric_dtype(lk) and not is_bool_dtype(lk))\n\u001b[0;32m    982\u001b[0m                     and not is_numeric_dtype(rk)):\n\u001b[1;32m--> 983\u001b[1;33m                 \u001b[1;32mraise\u001b[0m \u001b[0mValueError\u001b[0m\u001b[1;33m(\u001b[0m\u001b[0mmsg\u001b[0m\u001b[1;33m)\u001b[0m\u001b[1;33m\u001b[0m\u001b[0m\n\u001b[0m\u001b[0;32m    984\u001b[0m             elif (not is_numeric_dtype(lk)\n\u001b[0;32m    985\u001b[0m                     and (is_numeric_dtype(rk) and not is_bool_dtype(rk))):\n",
      "\u001b[1;31mValueError\u001b[0m: You are trying to merge on int64 and object columns. If you wish to proceed you should use pd.concat"
     ]
    }
   ],
   "source": [
    "df = pd.merge(df, code_df, how='inner', left_on=['행정동코드'], right_on=['행자부행정동코드'])\n",
    "print(df.shape)\n",
    "df.tail()"
   ]
  },
  {
   "cell_type": "markdown",
   "metadata": {},
   "source": [
    "- ValueError: You are trying to merge on int64 and object columns. If you wish to proceed you should use pd.concat\n",
    "- 위 에러 메시지를 보고 각 df 의 데이터 타입을 확인"
   ]
  },
  {
   "cell_type": "code",
   "execution_count": 44,
   "metadata": {},
   "outputs": [
    {
     "name": "stdout",
     "output_type": "stream",
     "text": [
      "<class 'pandas.core.frame.DataFrame'>\n",
      "RangeIndex: 315456 entries, 0 to 315455\n",
      "Data columns (total 1 columns):\n",
      "행정동코드    315456 non-null int64\n",
      "dtypes: int64(1)\n",
      "memory usage: 2.4 MB\n"
     ]
    }
   ],
   "source": [
    "df[['행정동코드']].info()"
   ]
  },
  {
   "cell_type": "code",
   "execution_count": 45,
   "metadata": {},
   "outputs": [
    {
     "name": "stdout",
     "output_type": "stream",
     "text": [
      "<class 'pandas.core.frame.DataFrame'>\n",
      "RangeIndex: 424 entries, 1 to 424\n",
      "Data columns (total 3 columns):\n",
      "행자부행정동코드    424 non-null object\n",
      "시군구명        424 non-null object\n",
      "행정동명        424 non-null object\n",
      "dtypes: object(3)\n",
      "memory usage: 10.0+ KB\n"
     ]
    }
   ],
   "source": [
    "code_df.info()"
   ]
  },
  {
   "cell_type": "markdown",
   "metadata": {},
   "source": [
    "- code_df 의 '행자부행정동코드' 컬럼이 object(문자열) 타입으로 된것을 확인\n",
    "- 해당 컬럼의 타입을 int64로 변경"
   ]
  },
  {
   "cell_type": "code",
   "execution_count": 48,
   "metadata": {},
   "outputs": [
    {
     "name": "stdout",
     "output_type": "stream",
     "text": [
      "(424, 3)\n",
      "<class 'pandas.core.frame.DataFrame'>\n",
      "RangeIndex: 424 entries, 1 to 424\n",
      "Data columns (total 3 columns):\n",
      "행자부행정동코드    424 non-null int64\n",
      "시군구명        424 non-null object\n",
      "행정동명        424 non-null object\n",
      "dtypes: int64(1), object(2)\n",
      "memory usage: 10.0+ KB\n"
     ]
    }
   ],
   "source": [
    "code_df['행자부행정동코드'] = code_df['행자부행정동코드'].astype('int64')\n",
    "print(code_df.shape)\n",
    "code_df.info()"
   ]
  },
  {
   "cell_type": "markdown",
   "metadata": {},
   "source": [
    "- 생활인구 데이터에서 행정동과 자치구가 어디인지 확인하기 위해 행정동코드를 기준으로 데이터를 merge\n",
    "- 이를 통해 각각의 행정동코드의 위치를 한글로 확인할 수 있음"
   ]
  },
  {
   "cell_type": "code",
   "execution_count": 50,
   "metadata": {},
   "outputs": [
    {
     "name": "stdout",
     "output_type": "stream",
     "text": [
      "(315456, 35)\n"
     ]
    },
    {
     "data": {
      "text/html": [
       "<div>\n",
       "<style scoped>\n",
       "    .dataframe tbody tr th:only-of-type {\n",
       "        vertical-align: middle;\n",
       "    }\n",
       "\n",
       "    .dataframe tbody tr th {\n",
       "        vertical-align: top;\n",
       "    }\n",
       "\n",
       "    .dataframe thead th {\n",
       "        text-align: right;\n",
       "    }\n",
       "</style>\n",
       "<table border=\"1\" class=\"dataframe\">\n",
       "  <thead>\n",
       "    <tr style=\"text-align: right;\">\n",
       "      <th></th>\n",
       "      <th>기준일ID</th>\n",
       "      <th>시간대구분</th>\n",
       "      <th>행정동코드</th>\n",
       "      <th>총생활인구수</th>\n",
       "      <th>남자0세부터9세생활인구수</th>\n",
       "      <th>남자10세부터14세생활인구수</th>\n",
       "      <th>남자15세부터19세생활인구수</th>\n",
       "      <th>남자20세부터24세생활인구수</th>\n",
       "      <th>남자25세부터29세생활인구수</th>\n",
       "      <th>남자30세부터34세생활인구수</th>\n",
       "      <th>...</th>\n",
       "      <th>여자40세부터44세생활인구수</th>\n",
       "      <th>여자45세부터49세생활인구수</th>\n",
       "      <th>여자50세부터54세생활인구수</th>\n",
       "      <th>여자55세부터59세생활인구수</th>\n",
       "      <th>여자60세부터64세생활인구수</th>\n",
       "      <th>여자65세부터69세생활인구수</th>\n",
       "      <th>여자70세이상생활인구수</th>\n",
       "      <th>행자부행정동코드</th>\n",
       "      <th>시군구명</th>\n",
       "      <th>행정동명</th>\n",
       "    </tr>\n",
       "  </thead>\n",
       "  <tbody>\n",
       "    <tr>\n",
       "      <th>315451</th>\n",
       "      <td>20190731</td>\n",
       "      <td>19</td>\n",
       "      <td>11740700</td>\n",
       "      <td>25485.1757</td>\n",
       "      <td>925.0007</td>\n",
       "      <td>466.6208</td>\n",
       "      <td>702.6746</td>\n",
       "      <td>637.7536</td>\n",
       "      <td>724.0401</td>\n",
       "      <td>785.8368</td>\n",
       "      <td>...</td>\n",
       "      <td>869.0461</td>\n",
       "      <td>990.4464</td>\n",
       "      <td>1072.5113</td>\n",
       "      <td>1330.6080</td>\n",
       "      <td>1117.9305</td>\n",
       "      <td>902.4364</td>\n",
       "      <td>2297.5680</td>\n",
       "      <td>11740700</td>\n",
       "      <td>강동구</td>\n",
       "      <td>둔촌2동</td>\n",
       "    </tr>\n",
       "    <tr>\n",
       "      <th>315452</th>\n",
       "      <td>20190731</td>\n",
       "      <td>20</td>\n",
       "      <td>11740700</td>\n",
       "      <td>25751.6023</td>\n",
       "      <td>909.5407</td>\n",
       "      <td>458.8218</td>\n",
       "      <td>715.2729</td>\n",
       "      <td>613.7281</td>\n",
       "      <td>717.0559</td>\n",
       "      <td>798.6660</td>\n",
       "      <td>...</td>\n",
       "      <td>913.9967</td>\n",
       "      <td>1000.6795</td>\n",
       "      <td>1072.9392</td>\n",
       "      <td>1312.6228</td>\n",
       "      <td>1173.9137</td>\n",
       "      <td>946.2098</td>\n",
       "      <td>2325.1133</td>\n",
       "      <td>11740700</td>\n",
       "      <td>강동구</td>\n",
       "      <td>둔촌2동</td>\n",
       "    </tr>\n",
       "    <tr>\n",
       "      <th>315453</th>\n",
       "      <td>20190731</td>\n",
       "      <td>21</td>\n",
       "      <td>11740700</td>\n",
       "      <td>26563.1369</td>\n",
       "      <td>925.1330</td>\n",
       "      <td>466.6877</td>\n",
       "      <td>742.6530</td>\n",
       "      <td>656.3445</td>\n",
       "      <td>759.4896</td>\n",
       "      <td>795.2940</td>\n",
       "      <td>...</td>\n",
       "      <td>995.1877</td>\n",
       "      <td>1059.2564</td>\n",
       "      <td>1096.9543</td>\n",
       "      <td>1362.8715</td>\n",
       "      <td>1236.7435</td>\n",
       "      <td>933.3004</td>\n",
       "      <td>2240.9374</td>\n",
       "      <td>11740700</td>\n",
       "      <td>강동구</td>\n",
       "      <td>둔촌2동</td>\n",
       "    </tr>\n",
       "    <tr>\n",
       "      <th>315454</th>\n",
       "      <td>20190731</td>\n",
       "      <td>22</td>\n",
       "      <td>11740700</td>\n",
       "      <td>28078.3684</td>\n",
       "      <td>1101.7607</td>\n",
       "      <td>555.7876</td>\n",
       "      <td>825.1556</td>\n",
       "      <td>729.6189</td>\n",
       "      <td>831.9103</td>\n",
       "      <td>873.8573</td>\n",
       "      <td>...</td>\n",
       "      <td>1024.0045</td>\n",
       "      <td>1071.5685</td>\n",
       "      <td>1118.7449</td>\n",
       "      <td>1399.8889</td>\n",
       "      <td>1218.2579</td>\n",
       "      <td>955.2108</td>\n",
       "      <td>2370.5682</td>\n",
       "      <td>11740700</td>\n",
       "      <td>강동구</td>\n",
       "      <td>둔촌2동</td>\n",
       "    </tr>\n",
       "    <tr>\n",
       "      <th>315455</th>\n",
       "      <td>20190731</td>\n",
       "      <td>23</td>\n",
       "      <td>11740700</td>\n",
       "      <td>30180.8883</td>\n",
       "      <td>1184.0851</td>\n",
       "      <td>597.3174</td>\n",
       "      <td>847.8316</td>\n",
       "      <td>795.8728</td>\n",
       "      <td>897.8780</td>\n",
       "      <td>914.0025</td>\n",
       "      <td>...</td>\n",
       "      <td>1062.8933</td>\n",
       "      <td>1223.7927</td>\n",
       "      <td>1114.2595</td>\n",
       "      <td>1465.3119</td>\n",
       "      <td>1290.0943</td>\n",
       "      <td>1035.7022</td>\n",
       "      <td>2405.0821</td>\n",
       "      <td>11740700</td>\n",
       "      <td>강동구</td>\n",
       "      <td>둔촌2동</td>\n",
       "    </tr>\n",
       "  </tbody>\n",
       "</table>\n",
       "<p>5 rows × 35 columns</p>\n",
       "</div>"
      ],
      "text/plain": [
       "           기준일ID  시간대구분     행정동코드      총생활인구수  남자0세부터9세생활인구수  남자10세부터14세생활인구수  \\\n",
       "315451  20190731     19  11740700  25485.1757       925.0007         466.6208   \n",
       "315452  20190731     20  11740700  25751.6023       909.5407         458.8218   \n",
       "315453  20190731     21  11740700  26563.1369       925.1330         466.6877   \n",
       "315454  20190731     22  11740700  28078.3684      1101.7607         555.7876   \n",
       "315455  20190731     23  11740700  30180.8883      1184.0851         597.3174   \n",
       "\n",
       "        남자15세부터19세생활인구수  남자20세부터24세생활인구수  남자25세부터29세생활인구수  남자30세부터34세생활인구수  \\\n",
       "315451         702.6746         637.7536         724.0401         785.8368   \n",
       "315452         715.2729         613.7281         717.0559         798.6660   \n",
       "315453         742.6530         656.3445         759.4896         795.2940   \n",
       "315454         825.1556         729.6189         831.9103         873.8573   \n",
       "315455         847.8316         795.8728         897.8780         914.0025   \n",
       "\n",
       "        ...   여자40세부터44세생활인구수  여자45세부터49세생활인구수  여자50세부터54세생활인구수  \\\n",
       "315451  ...          869.0461         990.4464        1072.5113   \n",
       "315452  ...          913.9967        1000.6795        1072.9392   \n",
       "315453  ...          995.1877        1059.2564        1096.9543   \n",
       "315454  ...         1024.0045        1071.5685        1118.7449   \n",
       "315455  ...         1062.8933        1223.7927        1114.2595   \n",
       "\n",
       "        여자55세부터59세생활인구수  여자60세부터64세생활인구수  여자65세부터69세생활인구수  여자70세이상생활인구수  \\\n",
       "315451        1330.6080        1117.9305         902.4364     2297.5680   \n",
       "315452        1312.6228        1173.9137         946.2098     2325.1133   \n",
       "315453        1362.8715        1236.7435         933.3004     2240.9374   \n",
       "315454        1399.8889        1218.2579         955.2108     2370.5682   \n",
       "315455        1465.3119        1290.0943        1035.7022     2405.0821   \n",
       "\n",
       "        행자부행정동코드  시군구명  행정동명  \n",
       "315451  11740700   강동구  둔촌2동  \n",
       "315452  11740700   강동구  둔촌2동  \n",
       "315453  11740700   강동구  둔촌2동  \n",
       "315454  11740700   강동구  둔촌2동  \n",
       "315455  11740700   강동구  둔촌2동  \n",
       "\n",
       "[5 rows x 35 columns]"
      ]
     },
     "execution_count": 50,
     "metadata": {},
     "output_type": "execute_result"
    }
   ],
   "source": [
    "df = pd.merge(df, code_df, how='inner', left_on=['행정동코드'], right_on=['행자부행정동코드'])\n",
    "print(df.shape)\n",
    "df.tail()"
   ]
  },
  {
   "cell_type": "markdown",
   "metadata": {},
   "source": [
    "- 여기까지는 실습을 위해 데이터를 전처리한 과정 \n",
    "- 자세한 내용은 책에 각각 챕터별로 설명해주고 있음\n",
    "- 이번 시간에는 위 코드를 그대로 사용"
   ]
  },
  {
   "cell_type": "markdown",
   "metadata": {},
   "source": [
    "# 만들어진 데이터프레임으로 3장에서 실습했던 내용 복습해보기"
   ]
  },
  {
   "cell_type": "markdown",
   "metadata": {},
   "source": [
    "## 시리즈의 mean, min, max, std 메서드 사용하기"
   ]
  },
  {
   "cell_type": "code",
   "execution_count": 51,
   "metadata": {},
   "outputs": [
    {
     "data": {
      "text/plain": [
       "pandas.core.series.Series"
      ]
     },
     "execution_count": 51,
     "metadata": {},
     "output_type": "execute_result"
    }
   ],
   "source": [
    "pop30 = df['남자30세부터34세생활인구수']\n",
    "type(pop30)"
   ]
  },
  {
   "cell_type": "code",
   "execution_count": 52,
   "metadata": {},
   "outputs": [
    {
     "data": {
      "text/plain": [
       "946.5803352965232"
      ]
     },
     "execution_count": 52,
     "metadata": {},
     "output_type": "execute_result"
    }
   ],
   "source": [
    "pop30.mean()"
   ]
  },
  {
   "cell_type": "code",
   "execution_count": 53,
   "metadata": {},
   "outputs": [
    {
     "data": {
      "text/plain": [
       "14032.8478"
      ]
     },
     "execution_count": 53,
     "metadata": {},
     "output_type": "execute_result"
    }
   ],
   "source": [
    "pop30.max()"
   ]
  },
  {
   "cell_type": "code",
   "execution_count": 54,
   "metadata": {},
   "outputs": [
    {
     "data": {
      "text/plain": [
       "30.633"
      ]
     },
     "execution_count": 54,
     "metadata": {},
     "output_type": "execute_result"
    }
   ],
   "source": [
    "pop30.min()"
   ]
  },
  {
   "cell_type": "code",
   "execution_count": 55,
   "metadata": {},
   "outputs": [
    {
     "data": {
      "text/plain": [
       "895.0832064196895"
      ]
     },
     "execution_count": 55,
     "metadata": {},
     "output_type": "execute_result"
    }
   ],
   "source": [
    "pop30.std()"
   ]
  },
  {
   "cell_type": "markdown",
   "metadata": {},
   "source": [
    "# 행자부행정동코드 컬럼 제거하기"
   ]
  },
  {
   "cell_type": "code",
   "execution_count": 57,
   "metadata": {},
   "outputs": [
    {
     "name": "stdout",
     "output_type": "stream",
     "text": [
      "Index(['기준일ID', '시간대구분', '행정동코드', '총생활인구수', '남자0세부터9세생활인구수', '남자10세부터14세생활인구수',\n",
      "       '남자15세부터19세생활인구수', '남자20세부터24세생활인구수', '남자25세부터29세생활인구수',\n",
      "       '남자30세부터34세생활인구수', '남자35세부터39세생활인구수', '남자40세부터44세생활인구수',\n",
      "       '남자45세부터49세생활인구수', '남자50세부터54세생활인구수', '남자55세부터59세생활인구수',\n",
      "       '남자60세부터64세생활인구수', '남자65세부터69세생활인구수', '남자70세이상생활인구수', '여자0세부터9세생활인구수',\n",
      "       '여자10세부터14세생활인구수', '여자15세부터19세생활인구수', '여자20세부터24세생활인구수',\n",
      "       '여자25세부터29세생활인구수', '여자30세부터34세생활인구수', '여자35세부터39세생활인구수',\n",
      "       '여자40세부터44세생활인구수', '여자45세부터49세생활인구수', '여자50세부터54세생활인구수',\n",
      "       '여자55세부터59세생활인구수', '여자60세부터64세생활인구수', '여자65세부터69세생활인구수', '여자70세이상생활인구수',\n",
      "       '행자부행정동코드', '시군구명', '행정동명'],\n",
      "      dtype='object')\n"
     ]
    }
   ],
   "source": [
    "print(df.columns)"
   ]
  },
  {
   "cell_type": "code",
   "execution_count": 59,
   "metadata": {},
   "outputs": [
    {
     "name": "stdout",
     "output_type": "stream",
     "text": [
      "Index(['기준일ID', '시간대구분', '행정동코드', '총생활인구수', '남자0세부터9세생활인구수', '남자10세부터14세생활인구수',\n",
      "       '남자15세부터19세생활인구수', '남자20세부터24세생활인구수', '남자25세부터29세생활인구수',\n",
      "       '남자30세부터34세생활인구수', '남자35세부터39세생활인구수', '남자40세부터44세생활인구수',\n",
      "       '남자45세부터49세생활인구수', '남자50세부터54세생활인구수', '남자55세부터59세생활인구수',\n",
      "       '남자60세부터64세생활인구수', '남자65세부터69세생활인구수', '남자70세이상생활인구수', '여자0세부터9세생활인구수',\n",
      "       '여자10세부터14세생활인구수', '여자15세부터19세생활인구수', '여자20세부터24세생활인구수',\n",
      "       '여자25세부터29세생활인구수', '여자30세부터34세생활인구수', '여자35세부터39세생활인구수',\n",
      "       '여자40세부터44세생활인구수', '여자45세부터49세생활인구수', '여자50세부터54세생활인구수',\n",
      "       '여자55세부터59세생활인구수', '여자60세부터64세생활인구수', '여자65세부터69세생활인구수', '여자70세이상생활인구수',\n",
      "       '시군구명', '행정동명'],\n",
      "      dtype='object')\n"
     ]
    }
   ],
   "source": [
    "df = df.drop(['행자부행정동코드'], axis=1)\n",
    "print(df.columns)"
   ]
  },
  {
   "cell_type": "markdown",
   "metadata": {},
   "source": [
    "- 날짜 컬럼 datetime 타입으로 변환하기"
   ]
  },
  {
   "cell_type": "code",
   "execution_count": 63,
   "metadata": {},
   "outputs": [
    {
     "name": "stdout",
     "output_type": "stream",
     "text": [
      "<class 'pandas.core.frame.DataFrame'>\n",
      "Int64Index: 315456 entries, 0 to 315455\n",
      "Data columns (total 1 columns):\n",
      "기준일ID    315456 non-null datetime64[ns]\n",
      "dtypes: datetime64[ns](1)\n",
      "memory usage: 4.8 MB\n"
     ]
    }
   ],
   "source": [
    "df['기준일ID'] = pd.to_datetime(df['기준일ID'], format='%Y%m%d')\n",
    "df[['기준일ID']].info()"
   ]
  },
  {
   "cell_type": "markdown",
   "metadata": {},
   "source": [
    "- 110000번째 row의 기준일ID 값 - 300번째 row의 기준일ID 값 계산해보기"
   ]
  },
  {
   "cell_type": "code",
   "execution_count": 68,
   "metadata": {},
   "outputs": [
    {
     "data": {
      "text/plain": [
       "Timedelta('14 days 00:00:00')"
      ]
     },
     "execution_count": 68,
     "metadata": {},
     "output_type": "execute_result"
    }
   ],
   "source": [
    "df.iloc[110000]['기준일ID'] - df.iloc[300]['기준일ID']"
   ]
  },
  {
   "cell_type": "markdown",
   "metadata": {},
   "source": [
    "- pickle로 저장해보기"
   ]
  },
  {
   "cell_type": "code",
   "execution_count": 70,
   "metadata": {},
   "outputs": [],
   "source": [
    "df.to_pickle('pop_1908.pk')"
   ]
  },
  {
   "cell_type": "markdown",
   "metadata": {},
   "source": [
    "- csv로 저장해보기"
   ]
  },
  {
   "cell_type": "code",
   "execution_count": 73,
   "metadata": {},
   "outputs": [],
   "source": [
    "df.to_csv('pop_1908.csv', index=False)"
   ]
  },
  {
   "cell_type": "markdown",
   "metadata": {},
   "source": [
    "- 각 파일 읽어보기"
   ]
  },
  {
   "cell_type": "code",
   "execution_count": 78,
   "metadata": {},
   "outputs": [
    {
     "data": {
      "text/plain": [
       "(315456, 34)"
      ]
     },
     "execution_count": 78,
     "metadata": {},
     "output_type": "execute_result"
    }
   ],
   "source": [
    "pk_df = pd.read_pickle('pop_1908.pk')\n",
    "pk_df.shape"
   ]
  },
  {
   "cell_type": "code",
   "execution_count": 79,
   "metadata": {},
   "outputs": [
    {
     "data": {
      "text/plain": [
       "(315456, 34)"
      ]
     },
     "execution_count": 79,
     "metadata": {},
     "output_type": "execute_result"
    }
   ],
   "source": [
    "csv_df = pd.read_csv('pop_1908.csv')\n",
    "csv_df.shape"
   ]
  },
  {
   "cell_type": "markdown",
   "metadata": {},
   "source": [
    "# 파이썬 연습문제"
   ]
  },
  {
   "cell_type": "markdown",
   "metadata": {},
   "source": [
    "- 1 ~ 10 까지의 정수를 모두 더해서 최종 값 출력"
   ]
  },
  {
   "cell_type": "code",
   "execution_count": 81,
   "metadata": {},
   "outputs": [
    {
     "name": "stdout",
     "output_type": "stream",
     "text": [
      "total : 55\n"
     ]
    }
   ],
   "source": [
    "res = 0\n",
    "for v in range(1, 11):\n",
    "    res += v\n",
    "print('total :', res)"
   ]
  },
  {
   "cell_type": "markdown",
   "metadata": {},
   "source": [
    "- 1 ~ 10 까지의 정수 중 짝수만 더해서 최종값 출력"
   ]
  },
  {
   "cell_type": "code",
   "execution_count": 83,
   "metadata": {},
   "outputs": [
    {
     "name": "stdout",
     "output_type": "stream",
     "text": [
      "total : 30\n"
     ]
    }
   ],
   "source": [
    "res = 0\n",
    "for v in range(1, 11):\n",
    "    if v % 2 == 0:\n",
    "        res += v\n",
    "print('total :', res)"
   ]
  },
  {
   "cell_type": "markdown",
   "metadata": {},
   "source": [
    "- 아래 문자열에서 스페이스를 기준으로 분리해서 리스트로 저장\n",
    "- test_str = 'python big data crawling analysis visualization machine learning deep learning'"
   ]
  },
  {
   "cell_type": "code",
   "execution_count": 85,
   "metadata": {},
   "outputs": [
    {
     "data": {
      "text/plain": [
       "['python',\n",
       " 'big',\n",
       " 'data',\n",
       " 'crawling',\n",
       " 'analysis',\n",
       " 'visualization',\n",
       " 'machine',\n",
       " 'learning',\n",
       " 'deep',\n",
       " 'learning']"
      ]
     },
     "execution_count": 85,
     "metadata": {},
     "output_type": "execute_result"
    }
   ],
   "source": [
    "test_str = 'python big data crawling analysis visualization machine learning deep learning'\n",
    "res_list = test_str.split(' ')\n",
    "res_list"
   ]
  },
  {
   "cell_type": "markdown",
   "metadata": {},
   "source": [
    "- 저장한 리스트에 'zizizi', 'pizza' 2개의 항목 추가"
   ]
  },
  {
   "cell_type": "code",
   "execution_count": 86,
   "metadata": {},
   "outputs": [
    {
     "data": {
      "text/plain": [
       "['python',\n",
       " 'big',\n",
       " 'data',\n",
       " 'crawling',\n",
       " 'analysis',\n",
       " 'visualization',\n",
       " 'machine',\n",
       " 'learning',\n",
       " 'deep',\n",
       " 'learning',\n",
       " 'zizizi',\n",
       " 'pizza']"
      ]
     },
     "execution_count": 86,
     "metadata": {},
     "output_type": "execute_result"
    }
   ],
   "source": [
    "res_list.append('zizizi')\n",
    "res_list.append('pizza')\n",
    "res_list"
   ]
  },
  {
   "cell_type": "markdown",
   "metadata": {},
   "source": [
    "- 결과 리스트 항목 중 문자 'z'가 포함된 항목 제거"
   ]
  },
  {
   "cell_type": "code",
   "execution_count": 87,
   "metadata": {},
   "outputs": [
    {
     "data": {
      "text/plain": [
       "['python',\n",
       " 'big',\n",
       " 'data',\n",
       " 'crawling',\n",
       " 'analysis',\n",
       " 'machine',\n",
       " 'learning',\n",
       " 'deep',\n",
       " 'learning']"
      ]
     },
     "execution_count": 87,
     "metadata": {},
     "output_type": "execute_result"
    }
   ],
   "source": [
    "for v in res_list[:]:\n",
    "    if 'z' in v:\n",
    "        res_list.remove(v)\n",
    "res_list"
   ]
  },
  {
   "cell_type": "code",
   "execution_count": null,
   "metadata": {},
   "outputs": [],
   "source": []
  }
 ],
 "metadata": {
  "kernelspec": {
   "display_name": "Python 3",
   "language": "python",
   "name": "python3"
  },
  "language_info": {
   "codemirror_mode": {
    "name": "ipython",
    "version": 3
   },
   "file_extension": ".py",
   "mimetype": "text/x-python",
   "name": "python",
   "nbconvert_exporter": "python",
   "pygments_lexer": "ipython3",
   "version": "3.6.6"
  }
 },
 "nbformat": 4,
 "nbformat_minor": 2
}
